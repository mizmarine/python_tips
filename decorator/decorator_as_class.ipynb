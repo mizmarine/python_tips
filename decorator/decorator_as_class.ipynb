{
 "cells": [
  {
   "cell_type": "markdown",
   "metadata": {},
   "source": [
    "# decorator"
   ]
  },
  {
   "cell_type": "markdown",
   "metadata": {},
   "source": [
    "まずはシンプルなデコレータ"
   ]
  },
  {
   "cell_type": "code",
   "execution_count": 1,
   "metadata": {
    "collapsed": true
   },
   "outputs": [],
   "source": [
    "def deco(f):\n",
    "    def inner(*args, **kwargs):\n",
    "        print('---before---')\n",
    "        result = f(*args, **kwargs)\n",
    "        print('---after---')\n",
    "        return result\n",
    "    return inner"
   ]
  },
  {
   "cell_type": "code",
   "execution_count": 2,
   "metadata": {
    "collapsed": true
   },
   "outputs": [],
   "source": [
    "def greet(name):\n",
    "    print('hello, {0}'.format(name))"
   ]
  },
  {
   "cell_type": "code",
   "execution_count": 3,
   "metadata": {
    "collapsed": false
   },
   "outputs": [
    {
     "name": "stdout",
     "output_type": "stream",
     "text": [
      "hello, masa\n"
     ]
    }
   ],
   "source": [
    "greet('masa')"
   ]
  },
  {
   "cell_type": "code",
   "execution_count": 4,
   "metadata": {
    "collapsed": true
   },
   "outputs": [],
   "source": [
    "deco_greet = deco(greet)"
   ]
  },
  {
   "cell_type": "code",
   "execution_count": 5,
   "metadata": {
    "collapsed": false
   },
   "outputs": [
    {
     "name": "stdout",
     "output_type": "stream",
     "text": [
      "---before---\n",
      "hello, masa\n",
      "---after---\n"
     ]
    }
   ],
   "source": [
    "deco_greet('masa')"
   ]
  },
  {
   "cell_type": "markdown",
   "metadata": {},
   "source": [
    "@はsyntax sugar"
   ]
  },
  {
   "cell_type": "code",
   "execution_count": 6,
   "metadata": {
    "collapsed": true
   },
   "outputs": [],
   "source": [
    "@deco\n",
    "def another_deco_greet(name):\n",
    "    print('hello, {0}'.format(name))"
   ]
  },
  {
   "cell_type": "code",
   "execution_count": 7,
   "metadata": {
    "collapsed": false
   },
   "outputs": [
    {
     "name": "stdout",
     "output_type": "stream",
     "text": [
      "---before---\n",
      "hello, masa\n",
      "---after---\n"
     ]
    }
   ],
   "source": [
    "another_deco_greet('masa')"
   ]
  },
  {
   "cell_type": "markdown",
   "metadata": {},
   "source": [
    "# instance method を decorate"
   ]
  },
  {
   "cell_type": "code",
   "execution_count": 8,
   "metadata": {
    "collapsed": true
   },
   "outputs": [],
   "source": [
    "class Human:\n",
    "    def __init__(self, name):\n",
    "        self.name = name\n",
    "    \n",
    "    def greet(self):\n",
    "        print('my name is {0}'.format(self.name))"
   ]
  },
  {
   "cell_type": "code",
   "execution_count": 9,
   "metadata": {
    "collapsed": false
   },
   "outputs": [
    {
     "name": "stdout",
     "output_type": "stream",
     "text": [
      "my name is masa\n"
     ]
    }
   ],
   "source": [
    "masa = Human('masa')\n",
    "masa.greet()"
   ]
  },
  {
   "cell_type": "code",
   "execution_count": 12,
   "metadata": {
    "collapsed": true
   },
   "outputs": [],
   "source": [
    "def method_deco(f):\n",
    "    def inner(*args, **kwargs):\n",
    "        print('---before---')\n",
    "        print(args, kwargs)\n",
    "        result = f(*args, **kwargs)\n",
    "        print('---after---')\n",
    "        return result\n",
    "    return inner\n",
    "\n",
    "class DecoHuman:\n",
    "    def __init__(self, name):\n",
    "        self.name = name\n",
    "    \n",
    "    @method_deco\n",
    "    def greet(self):\n",
    "        print('my name is {0}'.format(self.name))"
   ]
  },
  {
   "cell_type": "code",
   "execution_count": 13,
   "metadata": {
    "collapsed": false
   },
   "outputs": [
    {
     "name": "stdout",
     "output_type": "stream",
     "text": [
      "---before---\n",
      "(<__main__.DecoHuman object at 0x104bd3208>,) {}\n",
      "my name is masa\n",
      "---after---\n"
     ]
    }
   ],
   "source": [
    "masa = DecoHuman('masa')\n",
    "masa.greet()"
   ]
  },
  {
   "cell_type": "markdown",
   "metadata": {},
   "source": [
    "- args に `DecoHuman` のinstanceが渡ってることがわかる\n",
    "- 要するに `greet(self)` における `self` のこと．"
   ]
  },
  {
   "cell_type": "markdown",
   "metadata": {},
   "source": [
    "# decorator class"
   ]
  },
  {
   "cell_type": "markdown",
   "metadata": {},
   "source": [
    "- decorator は function ではなく class としても書ける"
   ]
  },
  {
   "cell_type": "code",
   "execution_count": 17,
   "metadata": {
    "collapsed": true
   },
   "outputs": [],
   "source": [
    "class Deco:\n",
    "    def __init__(self, func):\n",
    "        self.func = func\n",
    "        \n",
    "    def __call__(self, *args, **kwargs):\n",
    "        print('---before---')\n",
    "        print(self, args, kwargs)\n",
    "        result = self.func(*args, **kwargs)\n",
    "        print('---after---')\n",
    "        return result"
   ]
  },
  {
   "cell_type": "code",
   "execution_count": 18,
   "metadata": {
    "collapsed": true
   },
   "outputs": [],
   "source": [
    "@Deco\n",
    "def hello(name):\n",
    "    print('hello {0}'.format(name))"
   ]
  },
  {
   "cell_type": "code",
   "execution_count": 19,
   "metadata": {
    "collapsed": false
   },
   "outputs": [
    {
     "name": "stdout",
     "output_type": "stream",
     "text": [
      "---before---\n",
      "<__main__.Deco object at 0x104bc86a0> ('masa',) {}\n",
      "hello masa\n",
      "---after---\n"
     ]
    }
   ],
   "source": [
    "hello('masa')"
   ]
  },
  {
   "cell_type": "markdown",
   "metadata": {},
   "source": [
    "# decorator class で instance method を decorate"
   ]
  },
  {
   "cell_type": "code",
   "execution_count": 21,
   "metadata": {
    "collapsed": true
   },
   "outputs": [],
   "source": [
    "class Deco:\n",
    "    def __init__(self, func):\n",
    "        self.func = func\n",
    "        \n",
    "    def __call__(self, *args, **kwargs):\n",
    "        print('---before---')\n",
    "        print(self, args, kwargs)\n",
    "        result = self.func(*args, **kwargs)\n",
    "        print('---after---')\n",
    "        return result\n",
    "\n",
    "class DecoHuman:\n",
    "    def __init__(self, name):\n",
    "        self.name = name\n",
    "    \n",
    "    @Deco\n",
    "    def greet(self):\n",
    "        print('my name is {0}'.format(self.name))"
   ]
  },
  {
   "cell_type": "code",
   "execution_count": 22,
   "metadata": {
    "collapsed": false
   },
   "outputs": [
    {
     "name": "stdout",
     "output_type": "stream",
     "text": [
      "---before---\n",
      "<__main__.Deco object at 0x104bb29e8> () {}\n"
     ]
    },
    {
     "ename": "TypeError",
     "evalue": "greet() missing 1 required positional argument: 'self'",
     "output_type": "error",
     "traceback": [
      "\u001b[0;31m---------------------------------------------------------------------------\u001b[0m",
      "\u001b[0;31mTypeError\u001b[0m                                 Traceback (most recent call last)",
      "\u001b[0;32m<ipython-input-22-7bb5a58d2715>\u001b[0m in \u001b[0;36m<module>\u001b[0;34m()\u001b[0m\n\u001b[1;32m      1\u001b[0m \u001b[0mmasa\u001b[0m \u001b[0;34m=\u001b[0m \u001b[0mDecoHuman\u001b[0m\u001b[0;34m(\u001b[0m\u001b[0;34m'masa'\u001b[0m\u001b[0;34m)\u001b[0m\u001b[0;34m\u001b[0m\u001b[0m\n\u001b[0;32m----> 2\u001b[0;31m \u001b[0mmasa\u001b[0m\u001b[0;34m.\u001b[0m\u001b[0mgreet\u001b[0m\u001b[0;34m(\u001b[0m\u001b[0;34m)\u001b[0m\u001b[0;34m\u001b[0m\u001b[0m\n\u001b[0m",
      "\u001b[0;32m<ipython-input-21-9650dce35821>\u001b[0m in \u001b[0;36m__call__\u001b[0;34m(self, *args, **kwargs)\u001b[0m\n\u001b[1;32m      6\u001b[0m         \u001b[0mprint\u001b[0m\u001b[0;34m(\u001b[0m\u001b[0;34m'---before---'\u001b[0m\u001b[0;34m)\u001b[0m\u001b[0;34m\u001b[0m\u001b[0m\n\u001b[1;32m      7\u001b[0m         \u001b[0mprint\u001b[0m\u001b[0;34m(\u001b[0m\u001b[0mself\u001b[0m\u001b[0;34m,\u001b[0m \u001b[0margs\u001b[0m\u001b[0;34m,\u001b[0m \u001b[0mkwargs\u001b[0m\u001b[0;34m)\u001b[0m\u001b[0;34m\u001b[0m\u001b[0m\n\u001b[0;32m----> 8\u001b[0;31m         \u001b[0mresult\u001b[0m \u001b[0;34m=\u001b[0m \u001b[0mself\u001b[0m\u001b[0;34m.\u001b[0m\u001b[0mfunc\u001b[0m\u001b[0;34m(\u001b[0m\u001b[0;34m*\u001b[0m\u001b[0margs\u001b[0m\u001b[0;34m,\u001b[0m \u001b[0;34m**\u001b[0m\u001b[0mkwargs\u001b[0m\u001b[0;34m)\u001b[0m\u001b[0;34m\u001b[0m\u001b[0m\n\u001b[0m\u001b[1;32m      9\u001b[0m         \u001b[0mprint\u001b[0m\u001b[0;34m(\u001b[0m\u001b[0;34m'---after---'\u001b[0m\u001b[0;34m)\u001b[0m\u001b[0;34m\u001b[0m\u001b[0m\n\u001b[1;32m     10\u001b[0m         \u001b[0;32mreturn\u001b[0m \u001b[0mresult\u001b[0m\u001b[0;34m\u001b[0m\u001b[0m\n",
      "\u001b[0;31mTypeError\u001b[0m: greet() missing 1 required positional argument: 'self'"
     ]
    }
   ],
   "source": [
    "masa = DecoHuman('masa')\n",
    "masa.greet()"
   ]
  },
  {
   "cell_type": "markdown",
   "metadata": {},
   "source": [
    "- positional argument の self がない...だと...\n",
    "- decorate された method からはownerであるclass instance を取れない\n",
    "    - inctanceに対する呼び出しのときはキチンとselfが挟まれるっぽい\n",
    "    - class化するとそうでもないっぽい\n",
    "    - functionとして書いているときは self 意識してないのに...??\n",
    "- pythonにおいて instance method 呼ばれるとき self がどう渡されるか？がポイントっぽい\n",
    "    - method呼ぶときは外部から見ると self が部分適用されてる形のはず\n",
    "    - funcでの decorator は 部分適用後の関数をdecotate: bound method を decorate\n",
    "        - あくまで1関数としてcallされる -> デフォルトの__call__なり__get__なりが適用されそう\n",
    "    - classでの decorator は 部分適用前の関数をdecorate: unbound method を decorate\n",
    "        - Deco objectの call が呼ばれる\n",
    "    - と考えるとわかりやすいか\n",
    "- deoctate する時点で `self` の参照渡せてないとイケない..??\n",
    "    - いや関数からそれ見るの無理では...\n",
    "- 関係ありそうなエントリ\n",
    "    - http://coreblog.org/ats/translation-of-why-explicit-self-has-to-stay/\n",
    "    - http://stackoverflow.com/questions/10401935/python-method-wrapper-type\n",
    "    - https://docs.python.jp/3/howto/descriptor.html#functions-and-methods\n",
    "- 結論\n",
    "    - decoratorをclassで書くって方針がアレでは．．．"
   ]
  },
  {
   "cell_type": "code",
   "execution_count": 32,
   "metadata": {
    "collapsed": false
   },
   "outputs": [
    {
     "name": "stdout",
     "output_type": "stream",
     "text": [
      "<class 'function'>\n",
      "<class 'function'>\n"
     ]
    }
   ],
   "source": [
    "class Deco:\n",
    "    def __init__(self, func):\n",
    "        self.func = func\n",
    "        \n",
    "    def __call__(self, *args, **kwargs):\n",
    "        print('---before---')\n",
    "        print(self, args, kwargs)\n",
    "        result = self.func(*args, **kwargs)\n",
    "        print('---after---')\n",
    "        return result\n",
    "\n",
    "class DecoHuman:\n",
    "    def __init__(self, name):\n",
    "        self.name = name\n",
    "    \n",
    "    @Deco\n",
    "    def greet(self):\n",
    "        print('my name is {0}'.format(self.name))\n",
    "        \n",
    "masa = DecoHuman('masa')\n",
    "print(type(DecoHuman.greet.func))\n",
    "print(type(masa.greet.func))"
   ]
  },
  {
   "cell_type": "code",
   "execution_count": 34,
   "metadata": {
    "collapsed": false
   },
   "outputs": [
    {
     "name": "stdout",
     "output_type": "stream",
     "text": [
      "<bound method DecoHuman.greet of <__main__.DecoHuman object at 0x105478588>>\n",
      "---before---\n",
      "<__main__.Deco object at 0x105478518> () {}\n",
      "my name is masa\n",
      "---after---\n"
     ]
    }
   ],
   "source": [
    "class Deco:\n",
    "    def __init__(self, func):\n",
    "        print(func)\n",
    "        self.func = func\n",
    "        \n",
    "    def __call__(self, *args, **kwargs):\n",
    "        print('---before---')\n",
    "        print(self, args, kwargs)\n",
    "        result = self.func(*args, **kwargs)\n",
    "        print('---after---')\n",
    "        return result\n",
    "\n",
    "class DecoHuman:\n",
    "    def __init__(self, name):\n",
    "        self.name = name\n",
    "    \n",
    "    def greet(self):\n",
    "        print('my name is {0}'.format(self.name))\n",
    "        \n",
    "masa = DecoHuman('masa')\n",
    "masa.greet = Deco(masa.greet)\n",
    "masa.greet()"
   ]
  },
  {
   "cell_type": "code",
   "execution_count": 36,
   "metadata": {
    "collapsed": false
   },
   "outputs": [
    {
     "ename": "TypeError",
     "evalue": "method expected 2 arguments, got 3",
     "output_type": "error",
     "traceback": [
      "\u001b[0;31m---------------------------------------------------------------------------\u001b[0m",
      "\u001b[0;31mTypeError\u001b[0m                                 Traceback (most recent call last)",
      "\u001b[0;32m<ipython-input-36-4b349033fedf>\u001b[0m in \u001b[0;36m<module>\u001b[0;34m()\u001b[0m\n\u001b[1;32m     25\u001b[0m \u001b[0;34m\u001b[0m\u001b[0m\n\u001b[1;32m     26\u001b[0m \u001b[0mmasa\u001b[0m \u001b[0;34m=\u001b[0m \u001b[0mDecoHuman\u001b[0m\u001b[0;34m(\u001b[0m\u001b[0;34m'masa'\u001b[0m\u001b[0;34m)\u001b[0m\u001b[0;34m\u001b[0m\u001b[0m\n\u001b[0;32m---> 27\u001b[0;31m \u001b[0mmasa\u001b[0m\u001b[0;34m.\u001b[0m\u001b[0mgreet\u001b[0m\u001b[0;34m(\u001b[0m\u001b[0;34m)\u001b[0m\u001b[0;34m\u001b[0m\u001b[0m\n\u001b[0m",
      "\u001b[0;32m<ipython-input-36-4b349033fedf>\u001b[0m in \u001b[0;36m__get__\u001b[0;34m(self, obj, objtype)\u001b[0m\n\u001b[1;32m      7\u001b[0m     \u001b[0;32mdef\u001b[0m \u001b[0m__get__\u001b[0m\u001b[0;34m(\u001b[0m\u001b[0mself\u001b[0m\u001b[0;34m,\u001b[0m \u001b[0mobj\u001b[0m\u001b[0;34m,\u001b[0m \u001b[0mobjtype\u001b[0m\u001b[0;34m=\u001b[0m\u001b[0;32mNone\u001b[0m\u001b[0;34m)\u001b[0m\u001b[0;34m:\u001b[0m\u001b[0;34m\u001b[0m\u001b[0m\n\u001b[1;32m      8\u001b[0m         \u001b[0;34m\"Simulate func_descr_get() in Objects/funcobject.c\"\u001b[0m\u001b[0;34m\u001b[0m\u001b[0m\n\u001b[0;32m----> 9\u001b[0;31m         \u001b[0;32mreturn\u001b[0m \u001b[0mtypes\u001b[0m\u001b[0;34m.\u001b[0m\u001b[0mMethodType\u001b[0m\u001b[0;34m(\u001b[0m\u001b[0mself\u001b[0m\u001b[0;34m,\u001b[0m \u001b[0mobj\u001b[0m\u001b[0;34m,\u001b[0m \u001b[0mobjtype\u001b[0m\u001b[0;34m)\u001b[0m\u001b[0;34m\u001b[0m\u001b[0m\n\u001b[0m\u001b[1;32m     10\u001b[0m \u001b[0;34m\u001b[0m\u001b[0m\n\u001b[1;32m     11\u001b[0m     \u001b[0;32mdef\u001b[0m \u001b[0m__call__\u001b[0m\u001b[0;34m(\u001b[0m\u001b[0mself\u001b[0m\u001b[0;34m,\u001b[0m \u001b[0;34m*\u001b[0m\u001b[0margs\u001b[0m\u001b[0;34m,\u001b[0m \u001b[0;34m**\u001b[0m\u001b[0mkwargs\u001b[0m\u001b[0;34m)\u001b[0m\u001b[0;34m:\u001b[0m\u001b[0;34m\u001b[0m\u001b[0m\n",
      "\u001b[0;31mTypeError\u001b[0m: method expected 2 arguments, got 3"
     ]
    }
   ],
   "source": [
    "import types\n",
    "\n",
    "class Deco:\n",
    "    def __init__(self, func):\n",
    "        self.func = func\n",
    "    \n",
    "    def __get__(self, obj, objtype=None):\n",
    "        \"Simulate func_descr_get() in Objects/funcobject.c\"\n",
    "        return types.MethodType(self, obj, objtype)\n",
    "        \n",
    "    def __call__(self, *args, **kwargs):\n",
    "        print('---before---')\n",
    "        print(self, args, kwargs)\n",
    "        result = self.func(*args, **kwargs)\n",
    "        print('---after---')\n",
    "        return result\n",
    "\n",
    "class DecoHuman:\n",
    "    def __init__(self, name):\n",
    "        self.name = name\n",
    "    \n",
    "    @Deco\n",
    "    def greet(self):\n",
    "        print('my name is {0}'.format(self.name))\n",
    "        \n",
    "masa = DecoHuman('masa')\n",
    "masa.greet()"
   ]
  },
  {
   "cell_type": "markdown",
   "metadata": {},
   "source": [
    "pythonにおける「関数オブジェクト」がどんな振る舞いするのか，がポイントぽいぞ\n",
    "- https://docs.python.jp/3/howto/descriptor.html#static-methods-and-class-methods\n",
    "\n",
    "object経由で呼ばれるときはよしなに部分適用してくれるっぽさがある\n",
    "\n",
    "てことは functionの基底クラスをパクってdecoratorにすればワンチャン\n",
    "...いやそこまで頑張ってfunctionオブジェクトの挙動を真似するより，純粋にfunctionとして書いたほうがいいよねこれ．．．"
   ]
  },
  {
   "cell_type": "markdown",
   "metadata": {},
   "source": [
    "なんとかして部分適用する部分かければいいんだけどねー...\n",
    "- https://docs.python.jp/3/library/functools.html#functools.partialmethod\n",
    "\n",
    "こいつ使えそう？"
   ]
  },
  {
   "cell_type": "code",
   "execution_count": 38,
   "metadata": {
    "collapsed": false
   },
   "outputs": [
    {
     "name": "stdout",
     "output_type": "stream",
     "text": [
      "---before---\n",
      "<__main__.Deco object at 0x1054aee10> (<__main__.DecoHuman object at 0x1054aee80>,) {}\n",
      "my name is masa\n",
      "---after---\n"
     ]
    }
   ],
   "source": [
    "import functools\n",
    "\n",
    "class Deco:\n",
    "    def __init__(self, func):\n",
    "        self.func = func\n",
    "    \n",
    "    def __call__(self, *args, **kwargs):\n",
    "        print('---before---')\n",
    "        print(self, args, kwargs)\n",
    "        result = self.func(*args, **kwargs)\n",
    "        print('---after---')\n",
    "        return result\n",
    "\n",
    "class DecoHuman:\n",
    "    def __init__(self, name):\n",
    "        self.name = name\n",
    "    \n",
    "    @functools.partialmethod\n",
    "    @Deco\n",
    "    def greet(self):\n",
    "        print('my name is {0}'.format(self.name))\n",
    "        \n",
    "masa = DecoHuman('masa')\n",
    "masa.greet()"
   ]
  },
  {
   "cell_type": "markdown",
   "metadata": {},
   "source": [
    "きたぁぁぁぁぁぁぁ"
   ]
  },
  {
   "cell_type": "code",
   "execution_count": null,
   "metadata": {
    "collapsed": true
   },
   "outputs": [],
   "source": []
  }
 ],
 "metadata": {
  "kernelspec": {
   "display_name": "Python 3",
   "language": "python",
   "name": "python3"
  },
  "language_info": {
   "codemirror_mode": {
    "name": "ipython",
    "version": 3
   },
   "file_extension": ".py",
   "mimetype": "text/x-python",
   "name": "python",
   "nbconvert_exporter": "python",
   "pygments_lexer": "ipython3",
   "version": "3.6.0"
  }
 },
 "nbformat": 4,
 "nbformat_minor": 2
}
