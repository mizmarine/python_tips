{
 "cells": [
  {
   "cell_type": "markdown",
   "metadata": {},
   "source": [
    "- instance method 呼ばれる仕組みを見ていくよ\n",
    "    - selfってなんなんだろう？\n",
    "    - どう渡されてるのだろう？"
   ]
  },
  {
   "cell_type": "code",
   "execution_count": 2,
   "metadata": {
    "collapsed": true
   },
   "outputs": [],
   "source": [
    "class Human:\n",
    "    def __init__(self, name):\n",
    "        self.name = name\n",
    "    \n",
    "    def greet(self, your_name):\n",
    "        print('hello {0}, i am {1}.'.format(your_name, self.name))\n",
    "        \n",
    "def greet_func(your_name, my_name):\n",
    "        print('hello {0}, i am {1}.'.format(your_name, my_name))"
   ]
  },
  {
   "cell_type": "code",
   "execution_count": 3,
   "metadata": {
    "collapsed": false
   },
   "outputs": [
    {
     "name": "stdout",
     "output_type": "stream",
     "text": [
      "hello jiro, i am taro.\n"
     ]
    }
   ],
   "source": [
    "h = Human('taro')\n",
    "h.greet('jiro')"
   ]
  },
  {
   "cell_type": "code",
   "execution_count": 4,
   "metadata": {
    "collapsed": false
   },
   "outputs": [
    {
     "name": "stdout",
     "output_type": "stream",
     "text": [
      "hello jiro, i am taro.\n"
     ]
    }
   ],
   "source": [
    "greet_func('jiro', 'taro')"
   ]
  },
  {
   "cell_type": "markdown",
   "metadata": {},
   "source": [
    "- コードとして引数いくつ取る想定なの？を見てみよう"
   ]
  },
  {
   "cell_type": "code",
   "execution_count": 6,
   "metadata": {
    "collapsed": false
   },
   "outputs": [
    {
     "data": {
      "text/plain": [
       "2"
      ]
     },
     "execution_count": 6,
     "metadata": {},
     "output_type": "execute_result"
    }
   ],
   "source": [
    "h.greet.__code__.co_argcount"
   ]
  },
  {
   "cell_type": "code",
   "execution_count": 7,
   "metadata": {
    "collapsed": false
   },
   "outputs": [
    {
     "data": {
      "text/plain": [
       "2"
      ]
     },
     "execution_count": 7,
     "metadata": {},
     "output_type": "execute_result"
    }
   ],
   "source": [
    "greet_func.__code__.co_argcount"
   ]
  },
  {
   "cell_type": "markdown",
   "metadata": {},
   "source": [
    "- どちらも2引数であるようだ\n",
    "    - でも 実際に利用する時 `greet` は `'jiro'` しか受けてないよね\n",
    "    - もう一個の引数は？\n",
    "- self　として渡されてるモノが重要"
   ]
  },
  {
   "cell_type": "markdown",
   "metadata": {},
   "source": [
    "- ポイントは descriptor\n",
    "    - https://docs.python.jp/3/howto/descriptor.html?highlight=%E3%83%87%E3%82%B9%E3%82%AF%E3%83%AA%E3%83%97%E3%82%BF#invoking-descriptors\n",
    "    \n",
    "- こんなことが起きてる\n",
    "\n",
    "```python\n",
    "b.x\n",
    "type(b).__dict__['x'].__get__(b, type(b)) \n",
    "```"
   ]
  },
  {
   "cell_type": "code",
   "execution_count": 9,
   "metadata": {
    "collapsed": false
   },
   "outputs": [
    {
     "name": "stdout",
     "output_type": "stream",
     "text": [
      "hello jiro, i am taro.\n",
      "hello jiro, i am taro.\n",
      "hello jiro, i am taro.\n"
     ]
    }
   ],
   "source": [
    "# これが同一ってことか\n",
    "h.greet('jiro')\n",
    "type(h).__dict__['greet'].__get__(h, type(h))('jiro')\n",
    "type(h).__dict__['greet'](h, 'jiro')"
   ]
  },
  {
   "cell_type": "code",
   "execution_count": 13,
   "metadata": {
    "collapsed": false
   },
   "outputs": [
    {
     "data": {
      "text/plain": [
       "<bound method Human.greet of <__main__.Human object at 0x10bbb0470>>"
      ]
     },
     "execution_count": 13,
     "metadata": {},
     "output_type": "execute_result"
    }
   ],
   "source": [
    "h.greet"
   ]
  },
  {
   "cell_type": "code",
   "execution_count": 14,
   "metadata": {
    "collapsed": false
   },
   "outputs": [
    {
     "data": {
      "text/plain": [
       "<function __main__.Human.greet>"
      ]
     },
     "execution_count": 14,
     "metadata": {},
     "output_type": "execute_result"
    }
   ],
   "source": [
    "Human.greet"
   ]
  },
  {
   "cell_type": "markdown",
   "metadata": {},
   "source": [
    "- bound method は 第一引数に object 自体が 部分適用される関数 とみて良さそう\n",
    "- bound method を decorate すると どうなるんだっけ？を考えるといいのかも\n",
    "  - たぶん ただの function になって boundされるというcontextがなくなる，という話なのかな？\n",
    "  - @で書くといい感じだけど， f = deco(f) だと 駄目，みたいなイメージ\n",
    "- class 内外で見た目変わるのかなーとかそういうメタな話．．．\n"
   ]
  },
  {
   "cell_type": "code",
   "execution_count": 22,
   "metadata": {
    "collapsed": false
   },
   "outputs": [
    {
     "name": "stdout",
     "output_type": "stream",
     "text": [
      "hello jiro, i am taro.\n",
      "--begin--\n",
      "hello jiro, i am taro.\n",
      "--end--\n",
      "<function deco.<locals>.decorated at 0x10c418950>\n",
      "--begin--\n",
      "hello jiro, i am taro.\n",
      "--end--\n",
      "[<function deco.<locals>.decorated at 0x10c4188c8>]\n",
      "--begin--\n",
      "hello jiro, i am taro.\n",
      "--end--\n",
      "--begin--\n",
      "hello jiro, i am taro.\n",
      "--end--\n"
     ]
    }
   ],
   "source": [
    "def deco(f):\n",
    "    def decorated(*args, **kwargs):\n",
    "        print('--begin--')\n",
    "        result = f(*args, **kwargs)\n",
    "        print('--end--')\n",
    "        return result\n",
    "    return decorated\n",
    "\n",
    "class Human2:\n",
    "    def __init__(self, name):\n",
    "        self.name = name\n",
    "    \n",
    "    def greet(self, your_name):\n",
    "        print('hello {0}, i am {1}.'.format(your_name, self.name))\n",
    "        \n",
    "    @deco\n",
    "    def auto_deco_greet(self, your_name):\n",
    "        print('hello {0}, i am {1}.'.format(your_name, self.name))\n",
    "    \n",
    "    def manual_deco_greet(self, your_name):\n",
    "        f =deco(self.greet)\n",
    "        print(f)\n",
    "        f(your_name)\n",
    "\n",
    "    @property\n",
    "    def manual_deco_greet2(self):\n",
    "        return [deco(f) for f in [self.greet]]\n",
    " \n",
    "    def manual_deco_greet2_apply(self, your_name):\n",
    "        self.manual_deco_greet2[0](your_name)\n",
    "    \n",
    "    \n",
    "h2 = Human2('taro')\n",
    "h2.greet('jiro')\n",
    "h2.auto_deco_greet('jiro')\n",
    "h2.manual_deco_greet('jiro')\n",
    "print(h2.manual_deco_greet2)\n",
    "h2.manual_deco_greet2[0]('jiro')\n",
    "h2.manual_deco_greet2_apply('jiro')"
   ]
  },
  {
   "cell_type": "markdown",
   "metadata": {},
   "source": [
    "ふつーにうごくやーん"
   ]
  },
  {
   "cell_type": "code",
   "execution_count": null,
   "metadata": {
    "collapsed": true
   },
   "outputs": [],
   "source": []
  }
 ],
 "metadata": {
  "kernelspec": {
   "display_name": "Python 3",
   "language": "python",
   "name": "python3"
  },
  "language_info": {
   "codemirror_mode": {
    "name": "ipython",
    "version": 3
   },
   "file_extension": ".py",
   "mimetype": "text/x-python",
   "name": "python",
   "nbconvert_exporter": "python",
   "pygments_lexer": "ipython3",
   "version": "3.6.0"
  }
 },
 "nbformat": 4,
 "nbformat_minor": 2
}
